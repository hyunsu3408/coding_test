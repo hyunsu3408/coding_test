{
 "cells": [
  {
   "cell_type": "code",
   "execution_count": null,
   "id": "dedb9225",
   "metadata": {},
   "outputs": [],
   "source": [
    "# 1~6까지 주사위 3개를 던져 규칙에 따라 상금을 받는다\n",
    "# 조건1. 같은 눈 3개가 나오면 10000원+(같은눈)x1000원 상금 받기\n",
    "# 조건2. 같은 눈 2개가 나오면 1000원+(같은눈)x 1000원\n",
    "# 조건3. 모두 다른눈이 나오는 경우에는 (그 중 가장 큰 눈)x100원 상금"
   ]
  },
  {
   "cell_type": "code",
   "execution_count": null,
   "id": "fa2b70b5",
   "metadata": {},
   "outputs": [
    {
     "name": "stdout",
     "output_type": "stream",
     "text": [
      "12000\n"
     ]
    }
   ],
   "source": [
    "A,B,C = map(int,input().split())\n",
    "\n",
    "if A==B==C:\n",
    "    reward = 10000+ A*1000\n",
    "elif A==B or A==C:\n",
    "    reward = 1000+A*100\n",
    "elif B==C:\n",
    "    reward = 1000+B*100\n",
    "else:\n",
    "    reward = max(A,B,C)*100\n",
    "\n",
    "print(reward)\n",
    "\n"
   ]
  },
  {
   "cell_type": "code",
   "execution_count": null,
   "id": "53b2a401",
   "metadata": {},
   "outputs": [],
   "source": [
    "\n"
   ]
  }
 ],
 "metadata": {
  "kernelspec": {
   "display_name": "base",
   "language": "python",
   "name": "python3"
  },
  "language_info": {
   "codemirror_mode": {
    "name": "ipython",
    "version": 3
   },
   "file_extension": ".py",
   "mimetype": "text/x-python",
   "name": "python",
   "nbconvert_exporter": "python",
   "pygments_lexer": "ipython3",
   "version": "3.11.7"
  }
 },
 "nbformat": 4,
 "nbformat_minor": 5
}
