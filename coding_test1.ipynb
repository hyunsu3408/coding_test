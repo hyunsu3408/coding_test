{
 "cells": [
  {
   "cell_type": "code",
   "execution_count": null,
   "id": "91a42945",
   "metadata": {},
   "outputs": [],
   "source": [
    "# 45분 일찍 일어나기\n",
    "# 0<=H=<23,0<=M=<59 HTL M분\n",
    "# 시간과 분을 입력하고 출력은 45분 앞서는 시간으로 바꾸는 것\n"
   ]
  },
  {
   "cell_type": "code",
   "execution_count": 53,
   "id": "72387ab8",
   "metadata": {},
   "outputs": [
    {
     "name": "stdout",
     "output_type": "stream",
     "text": [
      "0 10\n"
     ]
    }
   ],
   "source": [
    "H,M = map(int,input().split())\n",
    "\n",
    "if M >= 45:\n",
    "    M -= 45\n",
    "elif M < 45:\n",
    "    M -= 45\n",
    "    M = 60 - abs(M)\n",
    "    H -= 1\n",
    "    if H < 0 or H > 24:\n",
    "        H = abs(H) - 24\n",
    "        H = abs(H)\n",
    "    elif H == 24:\n",
    "        H = 0\n",
    "    \n",
    "print(H,M)"
   ]
  },
  {
   "cell_type": "code",
   "execution_count": null,
   "id": "ad131b48",
   "metadata": {},
   "outputs": [],
   "source": []
  }
 ],
 "metadata": {
  "kernelspec": {
   "display_name": "base",
   "language": "python",
   "name": "python3"
  },
  "language_info": {
   "codemirror_mode": {
    "name": "ipython",
    "version": 3
   },
   "file_extension": ".py",
   "mimetype": "text/x-python",
   "name": "python",
   "nbconvert_exporter": "python",
   "pygments_lexer": "ipython3",
   "version": "3.11.7"
  }
 },
 "nbformat": 4,
 "nbformat_minor": 5
}
