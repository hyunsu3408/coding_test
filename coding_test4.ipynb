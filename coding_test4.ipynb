{
 "cells": [
  {
   "cell_type": "code",
   "execution_count": 1,
   "id": "2cfd74ad",
   "metadata": {},
   "outputs": [],
   "source": [
    "# 구매한 각 물건의 가격과 개수\n",
    "# 구매한 물건들의 총 금액\n",
    "# 구매한 물건의 가격과 개수로 계산한 총 금액이 영수증에 적힘 총금액과 일치하는지 검사\n",
    "\n",
    "# 조건1.첫째줄은 총 금액 X가 주어진다\n",
    "# 조건2.둘째줄은 영수증에 적힌 구매한 물건의 종류의수 N이 주어짐\n",
    "# 조건3.이후 N개의 줄에는 각 물건의 가격a와 b가 공백을 사이에 두고 주어진다\n"
   ]
  },
  {
   "cell_type": "code",
   "execution_count": null,
   "id": "c5d7c851",
   "metadata": {},
   "outputs": [
    {
     "name": "stdout",
     "output_type": "stream",
     "text": [
      "No\n"
     ]
    }
   ],
   "source": [
    "price = int(input())\n",
    "num = int(input())\n",
    "total = 0\n",
    "\n",
    "for l in range(num):\n",
    "    a,b = map(int,input().split())\n",
    "    total += a*b\n",
    "    \n",
    "if total == price:\n",
    "    print(\"Yes\")\n",
    "else:\n",
    "    print(\"No\")\n"
   ]
  },
  {
   "cell_type": "code",
   "execution_count": null,
   "id": "7e3f7601",
   "metadata": {},
   "outputs": [],
   "source": []
  },
  {
   "cell_type": "code",
   "execution_count": null,
   "id": "3b90b028",
   "metadata": {},
   "outputs": [],
   "source": []
  }
 ],
 "metadata": {
  "kernelspec": {
   "display_name": "base",
   "language": "python",
   "name": "python3"
  },
  "language_info": {
   "codemirror_mode": {
    "name": "ipython",
    "version": 3
   },
   "file_extension": ".py",
   "mimetype": "text/x-python",
   "name": "python",
   "nbconvert_exporter": "python",
   "pygments_lexer": "ipython3",
   "version": "3.11.7"
  }
 },
 "nbformat": 4,
 "nbformat_minor": 5
}
