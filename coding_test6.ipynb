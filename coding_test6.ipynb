{
 "cells": [
  {
   "cell_type": "code",
   "execution_count": 1,
   "id": "3baf930b",
   "metadata": {},
   "outputs": [],
   "source": [
    "# 첫 줄에 테스트 케이스 개수 T가 주어짐\n",
    "# T는 최대 1,000,000이다. 다음 T줄에는 각각 두 정수A와 B가 주어진다\n",
    "# A와 B는 1이상 1000이하 이다.\n",
    "# 각 테스트케이스마 A+B를 한 줄에 하나씩 순서대로 출력\n"
   ]
  },
  {
   "cell_type": "code",
   "execution_count": null,
   "id": "e5c85e82",
   "metadata": {},
   "outputs": [],
   "source": [
    "import sys\n",
    "\n",
    "test_case = int(input())\n",
    "\n",
    "for t in range(test_case):\n",
    "    A,B = map(int,sys.stdin.readline().split())\n",
    "    result = A+B\n",
    "    print(result)\n"
   ]
  },
  {
   "cell_type": "code",
   "execution_count": null,
   "id": "517ed2db",
   "metadata": {},
   "outputs": [],
   "source": []
  }
 ],
 "metadata": {
  "kernelspec": {
   "display_name": "base",
   "language": "python",
   "name": "python3"
  },
  "language_info": {
   "codemirror_mode": {
    "name": "ipython",
    "version": 3
   },
   "file_extension": ".py",
   "mimetype": "text/x-python",
   "name": "python",
   "nbconvert_exporter": "python",
   "pygments_lexer": "ipython3",
   "version": "3.11.7"
  }
 },
 "nbformat": 4,
 "nbformat_minor": 5
}
