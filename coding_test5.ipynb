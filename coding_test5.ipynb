{
 "cells": [
  {
   "cell_type": "code",
   "execution_count": null,
   "id": "39facf5f",
   "metadata": {},
   "outputs": [],
   "source": [
    "# 입출력이 N바이트 크기의 정수라면 프로그램을 어떻게 구혈할까\n",
    "# long int는 4바이트 정수까지 저장할수 있고\n",
    "# long long int는 8바이트, long long long int는 12바이트\n",
    "# N바이트 정수까지 저장할 수 있다고 생각해서 쓴 정수 자료형의 이름은?\n"
   ]
  },
  {
   "cell_type": "code",
   "execution_count": null,
   "id": "559d1fdf",
   "metadata": {},
   "outputs": [
    {
     "name": "stdout",
     "output_type": "stream",
     "text": [
      "long long long long int\n"
     ]
    }
   ],
   "source": [
    "N = int(input())\n",
    "\n",
    "A = N//4\n",
    "for i in range(A):\n",
    "    print(\"long\",end=' ')\n",
    "print(\"int\")"
   ]
  },
  {
   "cell_type": "code",
   "execution_count": null,
   "id": "682000a8",
   "metadata": {},
   "outputs": [],
   "source": []
  }
 ],
 "metadata": {
  "kernelspec": {
   "display_name": "base",
   "language": "python",
   "name": "python3"
  },
  "language_info": {
   "codemirror_mode": {
    "name": "ipython",
    "version": 3
   },
   "file_extension": ".py",
   "mimetype": "text/x-python",
   "name": "python",
   "nbconvert_exporter": "python",
   "pygments_lexer": "ipython3",
   "version": "3.11.7"
  }
 },
 "nbformat": 4,
 "nbformat_minor": 5
}
