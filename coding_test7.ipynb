{
 "cells": [
  {
   "cell_type": "code",
   "execution_count": null,
   "id": "f5d978b1",
   "metadata": {},
   "outputs": [],
   "source": [
    "# 테스트 케이스 T\n",
    "# 각 테스트 케이스는 한줄, 각 줄에 A,B 주어짐짐"
   ]
  },
  {
   "cell_type": "code",
   "execution_count": 4,
   "id": "086ae5d1",
   "metadata": {},
   "outputs": [
    {
     "name": "stdout",
     "output_type": "stream",
     "text": [
      "Case #1: 2\n",
      "Case #2: 4\n",
      "Case #3: 6\n"
     ]
    }
   ],
   "source": [
    "t = int(input())\n",
    "k=0\n",
    "\n",
    "for t in range(t):\n",
    "    k += 1\n",
    "    A,B = map(int,input().split())\n",
    "    print(\"Case #{0}: {1}\".format(k,A+B))"
   ]
  },
  {
   "cell_type": "code",
   "execution_count": null,
   "id": "43bdeed7",
   "metadata": {},
   "outputs": [],
   "source": []
  }
 ],
 "metadata": {
  "kernelspec": {
   "display_name": "base",
   "language": "python",
   "name": "python3"
  },
  "language_info": {
   "codemirror_mode": {
    "name": "ipython",
    "version": 3
   },
   "file_extension": ".py",
   "mimetype": "text/x-python",
   "name": "python",
   "nbconvert_exporter": "python",
   "pygments_lexer": "ipython3",
   "version": "3.11.7"
  }
 },
 "nbformat": 4,
 "nbformat_minor": 5
}
