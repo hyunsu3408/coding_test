{
 "cells": [
  {
   "cell_type": "code",
   "execution_count": null,
   "id": "a60482bb",
   "metadata": {},
   "outputs": [],
   "source": [
    "# 사용자에게 오리구기 요리가 끝나는 시각을 알려주는 시계가 있다\n",
    "# 오리구이를 시작하는 시각과 오븐구이를 하는데 필요한 시간이 분단위로 주어졌을 때\n",
    "# 끝나는 시각을 계산하는 프로그램을 작성하시오\n",
    "# 0<= A <= 23 , 0<= B <= 59\n",
    "# 0 <= C <= 1000\n",
    "# 첫 째 줄에는 현재 시각, 둘째 줄에는 끝나는 시각 출력\n"
   ]
  },
  {
   "cell_type": "code",
   "execution_count": null,
   "id": "ce26b97c",
   "metadata": {},
   "outputs": [
    {
     "name": "stdout",
     "output_type": "stream",
     "text": [
      "1 30\n",
      "100\n"
     ]
    }
   ],
   "source": [
    "A,B = map(int,input().split())\n",
    "C = int(input())\n",
    "\n",
    "if 0<B+C<60:\n",
    "    B = B+C\n",
    "elif B + C >= 60:\n",
    "    A += (B+C)//60\n",
    "    B = (B+C) % 60\n",
    "    if A == 24:\n",
    "        A = 0\n",
    "    elif A > 24:\n",
    "        A %= 24\n",
    "print(A,B)\n",
    "\n"
   ]
  },
  {
   "cell_type": "code",
   "execution_count": 43,
   "id": "222a701e",
   "metadata": {},
   "outputs": [
    {
     "name": "stdout",
     "output_type": "stream",
     "text": [
      "0 0\n"
     ]
    }
   ],
   "source": [
    "A,B = map(int,input().split())\n",
    "C = int(input())\n",
    "\n",
    "B += C\n",
    "A += B // 60\n",
    "B %= 60\n",
    "A %= 24\n",
    "\n",
    "print(A,B)\n",
    "\n"
   ]
  },
  {
   "cell_type": "code",
   "execution_count": null,
   "id": "36387c5b",
   "metadata": {},
   "outputs": [],
   "source": []
  }
 ],
 "metadata": {
  "kernelspec": {
   "display_name": "base",
   "language": "python",
   "name": "python3"
  },
  "language_info": {
   "codemirror_mode": {
    "name": "ipython",
    "version": 3
   },
   "file_extension": ".py",
   "mimetype": "text/x-python",
   "name": "python",
   "nbconvert_exporter": "python",
   "pygments_lexer": "ipython3",
   "version": "3.11.7"
  }
 },
 "nbformat": 4,
 "nbformat_minor": 5
}
